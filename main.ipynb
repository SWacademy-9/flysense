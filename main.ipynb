{
 "cells": [
  {
   "cell_type": "markdown",
   "metadata": {
    "id": "F77yOqgkX8p4"
   },
   "source": [
    "<a href=\"https://colab.research.google.com/github/open-mmlab/mmpose/blob/dev-1.x/demo/MMPose_Tutorial.ipynb\" target=\"_parent\"><img src=\"https://colab.research.google.com/assets/colab-badge.svg\" alt=\"Open In Colab\"/></a>"
   ]
  },
  {
   "cell_type": "code",
   "execution_count": 4,
   "metadata": {
    "colab": {
     "base_uri": "https://localhost:8080/"
    },
    "id": "Miy2zVRcw6kL",
    "outputId": "d3a6e8ea-f044-4bb6-9ca0-51da2b944dad",
    "scrolled": true
   },
   "outputs": [
    {
     "name": "stdout",
     "output_type": "stream",
     "text": [
      "torch version: 2.0.1+cu118 True\n",
      "torchvision version: 0.15.2+cu118\n",
      "mmpose version: 1.0.0\n",
      "cuda version: 11.8\n",
      "compiler information: MSVC 192829924\n"
     ]
    }
   ],
   "source": [
    "# Check Pytorch installation\n",
    "import torch, torchvision\n",
    "\n",
    "print('torch version:', torch.__version__, torch.cuda.is_available())\n",
    "print('torchvision version:', torchvision.__version__)\n",
    "\n",
    "# Check MMPose installation\n",
    "import mmpose\n",
    "\n",
    "print('mmpose version:', mmpose.__version__)\n",
    "\n",
    "# Check mmcv installation\n",
    "from mmcv.ops import get_compiling_cuda_version, get_compiler_version\n",
    "\n",
    "print('cuda version:', get_compiling_cuda_version())\n",
    "print('compiler information:', get_compiler_version())"
   ]
  },
  {
   "cell_type": "markdown",
   "metadata": {
    "id": "r2bf94XpyFnk"
   },
   "source": [
    "## Inference with an MMPose model\n",
    "\n",
    "MMPose provides high-level APIs for model inference and training."
   ]
  },
  {
   "cell_type": "code",
   "execution_count": 5,
   "metadata": {
    "id": "W9I7jiGa-d4y"
   },
   "outputs": [],
   "source": [
    "import os\n",
    "import json\n",
    "from PIL import Image"
   ]
  },
  {
   "cell_type": "code",
   "execution_count": 6,
   "metadata": {
    "colab": {
     "base_uri": "https://localhost:8080/"
    },
    "id": "JjTt4LZAx_lK",
    "outputId": "d24f48c1-21b2-41e5-f137-54ee6bed6276",
    "scrolled": true
   },
   "outputs": [
    {
     "name": "stdout",
     "output_type": "stream",
     "text": [
      "Loads checkpoint by http backend from path: https://download.openmmlab.com/mmdetection/v2.0/faster_rcnn/faster_rcnn_r50_fpn_1x_coco/faster_rcnn_r50_fpn_1x_coco_20200130-047c8118.pth\n",
      "Loads checkpoint by http backend from path: https://download.openmmlab.com/mmpose/top_down/hrnet/hrnet_w32_coco_256x192-c78dce93_20200708.pth\n",
      "06/19 05:33:50 - mmengine - WARNING - `Visualizer` backend is not initialized because save_dir is None.\n"
     ]
    },
    {
     "name": "stderr",
     "output_type": "stream",
     "text": [
      "c:\\users\\haeinlee\\mmpose\\demo\\mmpose\\mmpose\\datasets\\datasets\\utils.py:102: UserWarning: The metainfo config file \"configs/_base_/datasets/coco.py\" does not exist. A matched config file \"c:\\users\\haeinlee\\mmpose\\demo\\mmpose\\mmpose\\.mim\\configs\\_base_\\datasets\\coco.py\" will be used instead.\n",
      "  warnings.warn(\n"
     ]
    }
   ],
   "source": [
    "import mmcv\n",
    "from mmcv import imread\n",
    "import mmengine\n",
    "from mmengine.registry import init_default_scope\n",
    "import numpy as np\n",
    "\n",
    "from mmpose.apis import inference_topdown\n",
    "from mmpose.apis import init_model as init_pose_estimator\n",
    "from mmpose.evaluation.functional import nms\n",
    "from mmpose.registry import VISUALIZERS\n",
    "from mmpose.structures import merge_data_samples\n",
    "\n",
    "try:\n",
    "    from mmdet.apis import inference_detector, init_detector\n",
    "    has_mmdet = True\n",
    "except (ImportError, ModuleNotFoundError):\n",
    "    has_mmdet = False\n",
    "\n",
    "local_runtime = False\n",
    "\n",
    "try:\n",
    "    from google.colab.patches import cv2_imshow  # for image visualization in colab\n",
    "except:\n",
    "    local_runtime = True\n",
    "\n",
    "# config파일 경로 에러 문구 확인해서 잘 바꿔써주세요.\n",
    "pose_config = 'C:/Users/haeinlee/mmpose/configs/body_2d_keypoint/topdown_heatmap/coco/td-hm_hrnet-w32_8xb64-210e_coco-256x192.py'\n",
    "pose_checkpoint = 'https://download.openmmlab.com/mmpose/top_down/hrnet/hrnet_w32_coco_256x192-c78dce93_20200708.pth'\n",
    "det_config = 'C:/Users/haeinlee/mmpose/demo/mmdetection_cfg/faster_rcnn_r50_fpn_coco.py'\n",
    "det_checkpoint = 'https://download.openmmlab.com/mmdetection/v2.0/faster_rcnn/faster_rcnn_r50_fpn_1x_coco/faster_rcnn_r50_fpn_1x_coco_20200130-047c8118.pth'\n",
    "\n",
    "device = 'cuda:0'\n",
    "cfg_options = dict(model=dict(test_cfg=dict(output_heatmaps=True)))\n",
    "\n",
    "\n",
    "# build detector\n",
    "detector = init_detector(\n",
    "    det_config,\n",
    "    det_checkpoint,\n",
    "    device=device\n",
    ")\n",
    "\n",
    "\n",
    "# build pose estimator\n",
    "pose_estimator = init_pose_estimator(\n",
    "    pose_config,\n",
    "    pose_checkpoint,\n",
    "    device=device,\n",
    "    cfg_options=cfg_options\n",
    ")\n",
    "\n",
    "# init visualizer\n",
    "pose_estimator.cfg.visualizer.radius = 3\n",
    "pose_estimator.cfg.visualizer.line_width = 1\n",
    "visualizer = VISUALIZERS.build(pose_estimator.cfg.visualizer)\n",
    "# the dataset_meta is loaded from the checkpoint and\n",
    "# then pass to the model in init_pose_estimator\n",
    "visualizer.set_dataset_meta(pose_estimator.dataset_meta)\n",
    "\n",
    "\n",
    "\n",
    "#####----------------------------------------------------------------------------------------------------------------------------------------------###\n",
    "\n",
    "\n"
   ]
  },
  {
   "cell_type": "markdown",
   "metadata": {},
   "source": [
    "#모델가져오기"
   ]
  },
  {
   "cell_type": "code",
   "execution_count": 7,
   "metadata": {},
   "outputs": [],
   "source": [
    "import tensorflow as tf\n",
    "model = tf.keras.models.load_model('./model9')"
   ]
  },
  {
   "cell_type": "markdown",
   "metadata": {
    "id": "6D_oWxvUV4VN"
   },
   "source": [
    "# Writing Data\n",
    "관절 위치 추정하여 화질과 함께 data작성"
   ]
  },
  {
   "cell_type": "code",
   "execution_count": 3,
   "metadata": {
    "colab": {
     "base_uri": "https://localhost:8080/"
    },
    "id": "TYF1jjT-hrP9",
    "outputId": "b385a57d-4884-4285-b906-11876409ec38",
    "scrolled": false
   },
   "outputs": [
    {
     "ename": "NameError",
     "evalue": "name 'os' is not defined",
     "output_type": "error",
     "traceback": [
      "\u001b[1;31m---------------------------------------------------------------------------\u001b[0m",
      "\u001b[1;31mNameError\u001b[0m                                 Traceback (most recent call last)",
      "\u001b[1;32m~\\AppData\\Local\\Temp\\ipykernel_18308\\3431574631.py\u001b[0m in \u001b[0;36m<module>\u001b[1;34m\u001b[0m\n\u001b[0;32m      4\u001b[0m \u001b[0mdirectory_data\u001b[0m\u001b[1;33m=\u001b[0m\u001b[1;33m[\u001b[0m\u001b[1;33m]\u001b[0m\u001b[1;33m\u001b[0m\u001b[1;33m\u001b[0m\u001b[0m\n\u001b[0;32m      5\u001b[0m \u001b[1;33m\u001b[0m\u001b[0m\n\u001b[1;32m----> 6\u001b[1;33m \u001b[1;32mfor\u001b[0m \u001b[1;33m(\u001b[0m\u001b[0mpath\u001b[0m\u001b[1;33m,\u001b[0m \u001b[0mdir\u001b[0m\u001b[1;33m,\u001b[0m \u001b[0mfiles\u001b[0m\u001b[1;33m)\u001b[0m \u001b[1;32min\u001b[0m \u001b[0mos\u001b[0m\u001b[1;33m.\u001b[0m\u001b[0mwalk\u001b[0m\u001b[1;33m(\u001b[0m\u001b[0mimg_root\u001b[0m\u001b[1;33m)\u001b[0m\u001b[1;33m:\u001b[0m\u001b[1;33m\u001b[0m\u001b[1;33m\u001b[0m\u001b[0m\n\u001b[0m\u001b[0;32m      7\u001b[0m     \u001b[1;32mfor\u001b[0m \u001b[0mf\u001b[0m \u001b[1;32min\u001b[0m \u001b[0mfiles\u001b[0m\u001b[1;33m:\u001b[0m\u001b[1;33m\u001b[0m\u001b[1;33m\u001b[0m\u001b[0m\n\u001b[0;32m      8\u001b[0m         \u001b[0mimg\u001b[0m \u001b[1;33m=\u001b[0m \u001b[0mimg_root\u001b[0m\u001b[1;33m+\u001b[0m\u001b[0mf\u001b[0m\u001b[1;33m\u001b[0m\u001b[1;33m\u001b[0m\u001b[0m\n",
      "\u001b[1;31mNameError\u001b[0m: name 'os' is not defined"
     ]
    }
   ],
   "source": [
    "img_root = './test1/'\n",
    "#test 1 : pro05, test 2: pub01 test 3: pro08, test 4 : pub03\n",
    "data_flag = 0\n",
    "directory_data=[]\n",
    "\n",
    "for (path, dir, files) in os.walk(img_root):\n",
    "    for f in files:\n",
    "        img = img_root+f\n",
    "        image1 = Image.open(img)\n",
    "        \n",
    "        init_default_scope(detector.cfg.get('default_scope', 'mmdet'))\n",
    "        detect_result = inference_detector(detector, img)\n",
    "        pred_instance = detect_result.pred_instances.cpu().numpy()\n",
    "        bboxes = np.concatenate(\n",
    "            (pred_instance.bboxes, pred_instance.scores[:, None]), axis=1)\n",
    "        bboxes = bboxes[np.logical_and(pred_instance.labels == 0,\n",
    "                                        pred_instance.scores > 0.3)]\n",
    "        bboxes = bboxes[nms(bboxes, 0.3)][:, :4]\n",
    "        inference_result = inference_topdown(pose_estimator, img, bboxes)\n",
    "        \n",
    "        tmp = np.array(sum(inference_result[0].pred_instances.keypoints[0][5:].tolist(),[]))\n",
    "        tmp[0::2] = tmp[0::2]/image1.size[0]\n",
    "        tmp[1::2] = tmp[1::2]/image1.size[1]\n",
    "        \n",
    "        directory_data.append(tmp)\n",
    "              \n",
    "    if data_flag==0:\n",
    "        x=np.array([directory_data])\n",
    "        data_flag=1\n",
    "        \n",
    "    else:\n",
    "        x= np.concatenate((x, np.array([directory_data])),axis=0)\n",
    "        \n",
    "        \n",
    "print(model.predict(x))"
   ]
  },
  {
   "cell_type": "code",
   "execution_count": null,
   "metadata": {
    "scrolled": true
   },
   "outputs": [],
   "source": []
  },
  {
   "cell_type": "code",
   "execution_count": 5,
   "metadata": {},
   "outputs": [],
   "source": [
    "import tensorflow as tf\n",
    "model = tf.keras.models.load_model('./simple_LSTM')"
   ]
  },
  {
   "cell_type": "code",
   "execution_count": 8,
   "metadata": {},
   "outputs": [
    {
     "name": "stdout",
     "output_type": "stream",
     "text": [
      "06/19 05:33:57 - mmengine - WARNING - The current default scope \"mmpose\" is not \"mmdet\", `init_default_scope` will force set the currentdefault scope to \"mmdet\".\n",
      "06/19 05:34:10 - mmengine - WARNING - The current default scope \"mmdet\" is not \"mmpose\", `init_default_scope` will force set the currentdefault scope to \"mmpose\".\n",
      "1/1 [==============================] - 2s 2s/step\n",
      "[[0.0951936]]\n",
      "1/1 [==============================] - 0s 341ms/step\n",
      "[[0.07814419]]\n",
      "1/1 [==============================] - 0s 20ms/step\n",
      "[[0.03763203]]\n",
      "1/1 [==============================] - 0s 19ms/step\n",
      "[[0.01091004]]\n",
      "1/1 [==============================] - 0s 21ms/step\n",
      "[[0.15036374]]\n",
      "1/1 [==============================] - 0s 18ms/step\n",
      "[[0.00835619]]\n",
      "1/1 [==============================] - 0s 40ms/step\n",
      "[[0.0881592]]\n",
      "1/1 [==============================] - 0s 21ms/step\n",
      "[[0.06345508]]\n",
      "1/1 [==============================] - 0s 21ms/step\n",
      "[[0.0304906]]\n",
      "1/1 [==============================] - 0s 18ms/step\n",
      "[[0.02432534]]\n"
     ]
    }
   ],
   "source": [
    "img_root = 'C:/Users/haeinlee/Downloads/test_data-20230618T092038Z-001/test_data/public/'\n",
    "#test 1 : pro05, test 2: pub01 test 3: pro08, test 4 : pub03\n",
    "\n",
    "\n",
    "for (root_path, dir, files) in os.walk(img_root):\n",
    "    for d in dir:\n",
    "        for (path, dir, files) in os.walk(img_root+d):\n",
    "            data_flag = 0\n",
    "            directory_data=[]\n",
    "            for f in files:\n",
    "                img = path+'/'+f\n",
    "                image1 = Image.open(img)\n",
    "\n",
    "                init_default_scope(detector.cfg.get('default_scope', 'mmdet'))\n",
    "                detect_result = inference_detector(detector, img)\n",
    "                pred_instance = detect_result.pred_instances.cpu().numpy()\n",
    "                bboxes = np.concatenate(\n",
    "                    (pred_instance.bboxes, pred_instance.scores[:, None]), axis=1)\n",
    "                bboxes = bboxes[np.logical_and(pred_instance.labels == 0,\n",
    "                                                pred_instance.scores > 0.3)]\n",
    "                bboxes = bboxes[nms(bboxes, 0.3)][:, :4]\n",
    "                inference_result = inference_topdown(pose_estimator, img, bboxes)\n",
    "\n",
    "                tmp = np.array(sum(inference_result[0].pred_instances.keypoints[0][5:].tolist(),[]))\n",
    "                tmp[0::2] = tmp[0::2]/image1.size[0]\n",
    "                tmp[1::2] = tmp[1::2]/image1.size[1]\n",
    "\n",
    "                directory_data.append(tmp)\n",
    "\n",
    "            if data_flag==0:\n",
    "                x=np.array([directory_data])\n",
    "                data_flag=1\n",
    "\n",
    "            else:\n",
    "                x= np.concatenate((x, np.array([directory_data])),axis=0)\n",
    "\n",
    "\n",
    "        print(model.predict(x))"
   ]
  },
  {
   "cell_type": "code",
   "execution_count": 9,
   "metadata": {},
   "outputs": [
    {
     "name": "stdout",
     "output_type": "stream",
     "text": [
      "1/1 [==============================] - 0s 32ms/step\n",
      "[[0.32485116]]\n",
      "1/1 [==============================] - 0s 41ms/step\n",
      "[[0.01582544]]\n",
      "1/1 [==============================] - 0s 27ms/step\n",
      "[[0.00501433]]\n",
      "1/1 [==============================] - 0s 18ms/step\n",
      "[[0.5536788]]\n",
      "1/1 [==============================] - 0s 19ms/step\n",
      "[[0.02573157]]\n",
      "1/1 [==============================] - 0s 22ms/step\n",
      "[[0.43740433]]\n",
      "1/1 [==============================] - 0s 22ms/step\n",
      "[[0.00831002]]\n",
      "1/1 [==============================] - 0s 25ms/step\n",
      "[[0.21196523]]\n"
     ]
    }
   ],
   "source": [
    "img_root = 'C:/Users/haeinlee/Downloads/test_data-20230618T092038Z-001/test_data/pro/'\n",
    "#test 1 : pro05, test 2: pub01 test 3: pro08, test 4 : pub03\n",
    "\n",
    "\n",
    "for (root_path, dir, files) in os.walk(img_root):\n",
    "    for d in dir:\n",
    "        for (path, dir, files) in os.walk(img_root+d):\n",
    "            data_flag = 0\n",
    "            directory_data=[]\n",
    "            for f in files:\n",
    "                img = path+'/'+f\n",
    "                image1 = Image.open(img)\n",
    "\n",
    "                init_default_scope(detector.cfg.get('default_scope', 'mmdet'))\n",
    "                detect_result = inference_detector(detector, img)\n",
    "                pred_instance = detect_result.pred_instances.cpu().numpy()\n",
    "                bboxes = np.concatenate(\n",
    "                    (pred_instance.bboxes, pred_instance.scores[:, None]), axis=1)\n",
    "                bboxes = bboxes[np.logical_and(pred_instance.labels == 0,\n",
    "                                                pred_instance.scores > 0.3)]\n",
    "                bboxes = bboxes[nms(bboxes, 0.3)][:, :4]\n",
    "                inference_result = inference_topdown(pose_estimator, img, bboxes)\n",
    "\n",
    "                tmp = np.array(sum(inference_result[0].pred_instances.keypoints[0][5:].tolist(),[]))\n",
    "                tmp[0::2] = tmp[0::2]/image1.size[0]\n",
    "                tmp[1::2] = tmp[1::2]/image1.size[1]\n",
    "\n",
    "                directory_data.append(tmp)\n",
    "\n",
    "            if data_flag==0:\n",
    "                x=np.array([directory_data])\n",
    "                data_flag=1\n",
    "\n",
    "            else:\n",
    "                x= np.concatenate((x, np.array([directory_data])),axis=0)\n",
    "\n",
    "\n",
    "        print(model.predict(x))"
   ]
  },
  {
   "cell_type": "code",
   "execution_count": null,
   "metadata": {},
   "outputs": [],
   "source": []
  }
 ],
 "metadata": {
  "accelerator": "GPU",
  "colab": {
   "provenance": []
  },
  "gpuClass": "standard",
  "kernelspec": {
   "display_name": "Python 3 (ipykernel)",
   "language": "python",
   "name": "python3"
  },
  "language_info": {
   "codemirror_mode": {
    "name": "ipython",
    "version": 3
   },
   "file_extension": ".py",
   "mimetype": "text/x-python",
   "name": "python",
   "nbconvert_exporter": "python",
   "pygments_lexer": "ipython3",
   "version": "3.9.13"
  },
  "vscode": {
   "interpreter": {
    "hash": "383ba00087b5a9caebf3648b758a31e474cc01be975489b58f119fa4bc17e1f8"
   }
  }
 },
 "nbformat": 4,
 "nbformat_minor": 1
}
